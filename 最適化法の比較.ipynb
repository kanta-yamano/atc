{
  "nbformat": 4,
  "nbformat_minor": 0,
  "metadata": {
    "colab": {
      "provenance": [],
      "collapsed_sections": [
        "gw4G3_QDJuHA",
        "WoyKhQu5MXFg",
        "BI3RqEj_Nfp6"
      ],
      "include_colab_link": true
    },
    "kernelspec": {
      "name": "python3",
      "display_name": "Python 3"
    },
    "language_info": {
      "name": "python"
    }
  },
  "cells": [
    {
      "cell_type": "markdown",
      "metadata": {
        "id": "view-in-github",
        "colab_type": "text"
      },
      "source": [
        "<a href=\"https://colab.research.google.com/github/kanta-yamano/atc/blob/main/%E6%9C%80%E9%81%A9%E5%8C%96%E6%B3%95%E3%81%AE%E6%AF%94%E8%BC%83.ipynb\" target=\"_parent\"><img src=\"https://colab.research.google.com/assets/colab-badge.svg\" alt=\"Open In Colab\"/></a>"
      ]
    },
    {
      "cell_type": "markdown",
      "metadata": {
        "id": "bcQNOjvxGcT5"
      },
      "source": [
        "以下では、複雑なスケジューリング最適化問題を例題として取り上げる。ランダム選択、アニーリング法と遺伝アルゴリズムの比較を行う。\n",
        "はじめにフライトスケジュールを与える。"
      ]
    },
    {
      "cell_type": "code",
      "metadata": {
        "colab": {
          "base_uri": "https://localhost:8080/"
        },
        "id": "Q6--JDTnIJuJ",
        "outputId": "13d53e24-c11b-4d93-aeee-fc8ee5d48d8a"
      },
      "source": [
        "from google.colab import drive\n",
        "drive.mount('/content/drive')"
      ],
      "execution_count": null,
      "outputs": [
        {
          "output_type": "stream",
          "name": "stdout",
          "text": [
            "Drive already mounted at /content/drive; to attempt to forcibly remount, call drive.mount(\"/content/drive\", force_remount=True).\n"
          ]
        }
      ]
    },
    {
      "cell_type": "code",
      "metadata": {
        "id": "bP1pPCWcGWjC"
      },
      "source": [
        "with open('/content/drive/My Drive/大学院分散システム/schedule.txt') as fp:\n",
        "  lines = fp.read().strip().split('\\n') \n",
        "flights = {}\n",
        "for line in lines:\n",
        "  origin,dest,depart,arrive,price=line.split(',')\n",
        "  flights.setdefault((origin,dest),[])\n",
        "  # Add details to the list of possible flights\n",
        "  flights[(origin,dest)].append((depart,arrive,int(price)))"
      ],
      "execution_count": null,
      "outputs": []
    },
    {
      "cell_type": "code",
      "metadata": {
        "id": "GjZHR8bgJMKS"
      },
      "source": [
        "import time\n",
        "import random\n",
        "import math\n",
        "\n",
        "people = [('Seymour','BOS'),\n",
        "          ('Franny','DAL'),\n",
        "          ('Zooey','CAK'),\n",
        "          ('Walt','MIA'),\n",
        "          ('Buddy','ORD'),\n",
        "          ('Les','OMA')]\n",
        "# Laguardia\n",
        "destination='LGA'"
      ],
      "execution_count": null,
      "outputs": []
    },
    {
      "cell_type": "code",
      "metadata": {
        "id": "zAFM9zv-JZlC"
      },
      "source": [
        "def getminutes(t):\n",
        "  x=time.strptime(t,'%H:%M')\n",
        "  return x[3]*60+x[4]\n",
        "\n",
        "def printschedule(r):\n",
        "  for d in range(int(len(r)/2.0)): #Arranged for Python3.4\n",
        "    name=people[d][0]\n",
        "    origin=people[d][1]\n",
        "    out=flights[(origin,destination)][int(r[d])]\n",
        "    ret=flights[(destination,origin)][int(r[d+1])]\n",
        "    print( '%10s%10s %5s-%5s $%3s %5s-%5s $%3s' % (name,origin,\n",
        "                                                  out[0],out[1],out[2],\n",
        "                                                  ret[0],ret[1],ret[2]))\n",
        "def schedulecost(sol):\n",
        "  totalprice=0\n",
        "  latestarrival=0\n",
        "  earliestdep=24*60\n",
        "\n",
        "  for d in range(int(len(sol)/2.0)):# Arranged for python3.4 by A.Fujii\n",
        "    # Get the inbound and outbound flights\n",
        "    origin=people[d][1]\n",
        "    outbound=flights[(origin,destination)][int(sol[d])]\n",
        "    returnf=flights[(destination,origin)][int(sol[d+1])]\n",
        "    \n",
        "    # Total price is the price of all outbound and return flights\n",
        "    totalprice+=outbound[2]\n",
        "    totalprice+=returnf[2]\n",
        "    \n",
        "    # Track the latest arrival and earliest departure\n",
        "    if latestarrival<getminutes(outbound[1]): latestarrival=getminutes(outbound[1])\n",
        "    if earliestdep>getminutes(returnf[0]): earliestdep=getminutes(returnf[0])\n",
        "  \n",
        "  # Every person must wait at the airport until the latest person arrives.\n",
        "  # They also must arrive at the same time and wait for their flights.\n",
        "  totalwait=0  \n",
        "  for d in range(int(len(sol)/2.0)): # Arranged for python3.4 by A.Fujii\n",
        "    origin=people[d][1]\n",
        "    outbound=flights[(origin,destination)][int(sol[d])]\n",
        "    returnf=flights[(destination,origin)][int(sol[d+1])]\n",
        "    totalwait+=latestarrival-getminutes(outbound[1])\n",
        "    totalwait+=getminutes(returnf[0])-earliestdep  \n",
        "\n",
        "  # Does this solution require an extra day of car rental? That'll be $50!\n",
        "  if latestarrival>earliestdep: totalprice+=50\n",
        "  \n",
        "  return totalprice+totalwait\n"
      ],
      "execution_count": null,
      "outputs": []
    },
    {
      "cell_type": "markdown",
      "metadata": {
        "id": "bhfVDbUDJjLo"
      },
      "source": [
        "以上の準備のもとで、4種類の最適化方法の比較を行う。"
      ]
    },
    {
      "cell_type": "markdown",
      "metadata": {
        "id": "gw4G3_QDJuHA"
      },
      "source": [
        "# ランダムオプティマイズ"
      ]
    },
    {
      "cell_type": "code",
      "metadata": {
        "id": "v-x_dloHJywA"
      },
      "source": [
        "def randomoptimize(domain,costf):\n",
        "  best=999999999\n",
        "  bestr=None\n",
        "  for i in range(0,1000):\n",
        "    # Create a random solution\n",
        "    r=[float(random.randint(domain[i][0],domain[i][1])) \n",
        "       for i in range(len(domain))]\n",
        "    \n",
        "    # Get the cost\n",
        "    cost=costf(r)\n",
        "    \n",
        "    # Compare it to the best one so far\n",
        "    if cost<best:\n",
        "      best=cost\n",
        "      bestr=r \n",
        "  return r"
      ],
      "execution_count": null,
      "outputs": []
    },
    {
      "cell_type": "markdown",
      "metadata": {
        "id": "iDpFkQK7KH7p"
      },
      "source": [
        "初期スケジュールの状態とそれぞれのフライトコストを示す。"
      ]
    },
    {
      "cell_type": "code",
      "metadata": {
        "colab": {
          "base_uri": "https://localhost:8080/"
        },
        "id": "0BBJlyUVKAdo",
        "outputId": "67460754-f160-47b5-d1e2-bf042ef07566"
      },
      "source": [
        "s = [ 4,4,4,2,2,6,6,5,5,6,6,0]\n",
        "printschedule(s)"
      ],
      "execution_count": null,
      "outputs": [
        {
          "output_type": "stream",
          "name": "stdout",
          "text": [
            "   Seymour       BOS 12:34-15:02 $109 12:08-14:05 $142\n",
            "    Franny       DAL 12:19-15:25 $342 12:20-16:34 $500\n",
            "     Zooey       CAK 12:08-14:59 $149  9:58-12:56 $249\n",
            "      Walt       MIA  9:15-12:29 $225  9:25-12:46 $295\n",
            "     Buddy       ORD  9:42-11:32 $169 15:04-17:23 $189\n",
            "       Les       OMA 15:03-16:42 $135 15:07-17:21 $129\n"
          ]
        }
      ]
    },
    {
      "cell_type": "markdown",
      "metadata": {
        "id": "zlyjZgF9KUGw"
      },
      "source": [
        "ランダム最適化の結果\n"
      ]
    },
    {
      "cell_type": "code",
      "metadata": {
        "colab": {
          "base_uri": "https://localhost:8080/"
        },
        "id": "BpnhYc0iKUfA",
        "outputId": "f80c1ff4-23f8-4034-9271-ac36f272b5b6"
      },
      "source": [
        "domain = [(0,8)]*(len(people)*2)\n",
        "print( ' ===== random optimization ======')\n",
        "s = randomoptimize(domain,schedulecost)\n",
        "print(s)\n",
        "printschedule(s)\n",
        "print( ' schedulecost = %s' %schedulecost(s))"
      ],
      "execution_count": null,
      "outputs": [
        {
          "output_type": "stream",
          "name": "stdout",
          "text": [
            " ===== random optimization ======\n",
            "[6.0, 1.0, 8.0, 7.0, 7.0, 0.0, 5.0, 3.0, 0.0, 5.0, 2.0, 3.0]\n",
            "   Seymour       BOS 15:27-17:18 $151  8:23-10:28 $149\n",
            "    Franny       DAL  7:53-11:37 $433 18:44-22:42 $351\n",
            "     Zooey       CAK 18:35-20:28 $204 16:33-18:15 $253\n",
            "      Walt       MIA 17:07-20:04 $291 16:50-19:26 $304\n",
            "     Buddy       ORD 16:43-19:00 $246  6:03- 8:43 $219\n",
            "       Les       OMA  6:11- 8:31 $249 14:05-15:47 $226\n",
            " schedulecost = 7336\n"
          ]
        }
      ]
    },
    {
      "cell_type": "markdown",
      "metadata": {
        "id": "WsCWhYvDMR4Z"
      },
      "source": [
        "5000を超える値となる。"
      ]
    },
    {
      "cell_type": "markdown",
      "metadata": {
        "id": "WoyKhQu5MXFg"
      },
      "source": [
        "# ヒルクライム法"
      ]
    },
    {
      "cell_type": "code",
      "metadata": {
        "id": "uikMjC1TMuO_"
      },
      "source": [
        "def hillclimb(domain,costf):\n",
        "  # Create a random solution\n",
        "  sol=[random.randint(domain[i][0],domain[i][1])\n",
        "      for i in range(len(domain))]\n",
        "  # Main loop\n",
        "  while 1:\n",
        "    # Create list of neighboring solutions\n",
        "    neighbors=[]\n",
        "    \n",
        "    for j in range(len(domain)):\n",
        "      # One away in each direction\n",
        "      if sol[j]>domain[j][0]:\n",
        "        neighbors.append(sol[0:j]+[sol[j]+1]+sol[j+1:])\n",
        "      if sol[j]<domain[j][1]:\n",
        "        neighbors.append(sol[0:j]+[sol[j]-1]+sol[j+1:])\n",
        "\n",
        "    # See what the best solution amongst the neighbors is\n",
        "    current=costf(sol)\n",
        "    best=current\n",
        "    for j in range(len(neighbors)):\n",
        "      cost=costf(neighbors[j])\n",
        "      if cost<best:\n",
        "        best=cost\n",
        "        sol=neighbors[j]\n",
        "\n",
        "    # If there's no improvement, then we've reached the top\n",
        "    if best==current:\n",
        "      break\n",
        "  return sol"
      ],
      "execution_count": null,
      "outputs": []
    },
    {
      "cell_type": "markdown",
      "metadata": {
        "id": "lAail3fdMw2n"
      },
      "source": [
        "実行結果を示す。"
      ]
    },
    {
      "cell_type": "code",
      "metadata": {
        "colab": {
          "base_uri": "https://localhost:8080/"
        },
        "id": "asTZuvMYNCwJ",
        "outputId": "384445dc-6266-46ec-d93b-3c585e2027b3"
      },
      "source": [
        "#5.5 Hill Climb Search\n",
        "domain = [(0,8)]*(len(people)*2)\n",
        "print( ' ===== hill climb optimization ======')\n",
        "s = hillclimb(domain,schedulecost)\n",
        "print( s)\n",
        "printschedule(s)\n",
        "print( ' schedulecost = %s' %schedulecost(s))"
      ],
      "execution_count": null,
      "outputs": [
        {
          "output_type": "stream",
          "name": "stdout",
          "text": [
            " ===== hill climb optimization ======\n",
            "[8, 8, -3, 8, 6, 8, 6, 2, 0, 3, 7, 0]\n",
            "   Seymour       BOS 18:34-19:36 $136 18:24-20:49 $124\n",
            "    Franny       DAL 18:26-21:29 $464 17:14-20:59 $277\n",
            "     Zooey       CAK 17:08-19:08 $262 18:17-21:04 $259\n",
            "      Walt       MIA 18:23-21:35 $134 15:23-18:49 $150\n",
            "     Buddy       ORD 15:58-18:40 $173 18:33-20:22 $143\n",
            "       Les       OMA 18:12-20:17 $242 15:07-17:21 $129\n",
            " schedulecost = 3804\n"
          ]
        }
      ]
    },
    {
      "cell_type": "markdown",
      "metadata": {
        "id": "BI3RqEj_Nfp6"
      },
      "source": [
        "#アニーリング法\n",
        "同様にアニーリング（焼きなまし法）を定義する。"
      ]
    },
    {
      "cell_type": "code",
      "metadata": {
        "id": "SNhXjPzdNqr3"
      },
      "source": [
        "def annealingoptimize(domain,costf,T=10000.0,cool=0.95,step=1):\n",
        "  # Initialize the values randomly\n",
        "  vec=[float(random.randint(domain[i][0],domain[i][1])) \n",
        "       for i in range(len(domain))]\n",
        "  \n",
        "  while T>0.1:\n",
        "    # Choose one of the indices\n",
        "    i=random.randint(0,len(domain)-1)\n",
        "\n",
        "    # Choose a direction to change it\n",
        "    dir=random.randint(-step,step)\n",
        "\n",
        "    # Create a new list with one of the values changed\n",
        "    vecb=vec[:]\n",
        "    vecb[i]+=dir\n",
        "    if vecb[i]<domain[i][0]: vecb[i]=domain[i][0]\n",
        "    elif vecb[i]>domain[i][1]: vecb[i]=domain[i][1]\n",
        "\n",
        "    # Calculate the current cost and the new cost\n",
        "    ea=costf(vec)\n",
        "    eb=costf(vecb)\n",
        "    p=pow(math.e,(-eb-ea)/T)\n",
        "\n",
        "    # Is it better, or does it make the probability\n",
        "    # cutoff?\n",
        "    if (eb<ea or random.random()<p):\n",
        "      vec=vecb      \n",
        "\n",
        "    # Decrease the temperature\n",
        "    T=T*cool\n",
        "  return vec"
      ],
      "execution_count": null,
      "outputs": []
    },
    {
      "cell_type": "code",
      "metadata": {
        "colab": {
          "base_uri": "https://localhost:8080/",
          "height": 240
        },
        "id": "jRVk7A5vNxOo",
        "outputId": "9f6dda55-1df8-41c1-d23c-68fb0f4f239b"
      },
      "source": [
        "#5.6 Simulated Annealing\n",
        "domain = [(0,8)]*(len(people)*2)\n",
        "print( ' ===== annealing optimization ======')\n",
        "s = annealingoptimize(domain,schedulecost)\n",
        "print( s)\n",
        "printschedule(s)\n",
        "print( ' schedulecost = %s' %schedulecost(s))"
      ],
      "execution_count": null,
      "outputs": [
        {
          "output_type": "error",
          "ename": "NameError",
          "evalue": "ignored",
          "traceback": [
            "\u001b[0;31m---------------------------------------------------------------------------\u001b[0m",
            "\u001b[0;31mNameError\u001b[0m                                 Traceback (most recent call last)",
            "\u001b[0;32m<ipython-input-2-2a47081940a2>\u001b[0m in \u001b[0;36m<module>\u001b[0;34m\u001b[0m\n\u001b[1;32m      1\u001b[0m \u001b[0;31m#5.6 Simulated Annealing\u001b[0m\u001b[0;34m\u001b[0m\u001b[0;34m\u001b[0m\u001b[0;34m\u001b[0m\u001b[0m\n\u001b[0;32m----> 2\u001b[0;31m \u001b[0mdomain\u001b[0m \u001b[0;34m=\u001b[0m \u001b[0;34m[\u001b[0m\u001b[0;34m(\u001b[0m\u001b[0;36m0\u001b[0m\u001b[0;34m,\u001b[0m\u001b[0;36m8\u001b[0m\u001b[0;34m)\u001b[0m\u001b[0;34m]\u001b[0m\u001b[0;34m*\u001b[0m\u001b[0;34m(\u001b[0m\u001b[0mlen\u001b[0m\u001b[0;34m(\u001b[0m\u001b[0mpeople\u001b[0m\u001b[0;34m)\u001b[0m\u001b[0;34m*\u001b[0m\u001b[0;36m2\u001b[0m\u001b[0;34m)\u001b[0m\u001b[0;34m\u001b[0m\u001b[0;34m\u001b[0m\u001b[0m\n\u001b[0m\u001b[1;32m      3\u001b[0m \u001b[0mprint\u001b[0m\u001b[0;34m(\u001b[0m \u001b[0;34m' ===== annealing optimization ======'\u001b[0m\u001b[0;34m)\u001b[0m\u001b[0;34m\u001b[0m\u001b[0;34m\u001b[0m\u001b[0m\n\u001b[1;32m      4\u001b[0m \u001b[0ms\u001b[0m \u001b[0;34m=\u001b[0m \u001b[0mannealingoptimize\u001b[0m\u001b[0;34m(\u001b[0m\u001b[0mdomain\u001b[0m\u001b[0;34m,\u001b[0m\u001b[0mschedulecost\u001b[0m\u001b[0;34m)\u001b[0m\u001b[0;34m\u001b[0m\u001b[0;34m\u001b[0m\u001b[0m\n\u001b[1;32m      5\u001b[0m \u001b[0mprint\u001b[0m\u001b[0;34m(\u001b[0m \u001b[0ms\u001b[0m\u001b[0;34m)\u001b[0m\u001b[0;34m\u001b[0m\u001b[0;34m\u001b[0m\u001b[0m\n",
            "\u001b[0;31mNameError\u001b[0m: name 'people' is not defined"
          ]
        }
      ]
    },
    {
      "cell_type": "markdown",
      "metadata": {
        "id": "g3-aDr7hOBi5"
      },
      "source": [
        "# 遺伝アルゴリズム\n",
        "遺伝アルゴリズムを定義し確認する。\n"
      ]
    },
    {
      "cell_type": "code",
      "metadata": {
        "id": "QKUm47JsOJMy"
      },
      "source": [
        "def geneticoptimize(domain,costf,popsize=50,step=1,\n",
        "                    mutprob=0.2,elite=0.2,maxiter=100):\n",
        "   # Mutation Operation\n",
        "  def mutate_error (vec):\n",
        "    i=random.randint(0,len(domain)-1)\n",
        "    if random.random()<0.5 and vec[i]>domain[i][0]:\n",
        "      return vec[0:i]+[vec[i]-step]+vec[i+1:] \n",
        "    elif vec[i]<domain[i][1]:\n",
        "      return vec[0:i]+[vec[i]+step]+vec[i+1:]\n",
        "    \n",
        "  def mutate(vec):\n",
        "    i=random.randint(0,len(domain)-1)\n",
        "    # Corrected so different step values can be added\n",
        "    if random.random()<0.5 and vec[i]-step>domain[i][0]:\n",
        "      return vec[0:i]+[vec[i]-step]+vec[i+1:]\n",
        "    elif vec[i]+step<domain[i][1]:\n",
        "      return vec[0:i]+[vec[i]+step]+vec[i+1:]\n",
        "    else:\n",
        "      return vec\n",
        "          \n",
        "  # Crossover Operation\n",
        "  def crossover(r1,r2):\n",
        "    i=random.randint(1,len(domain)-2)\n",
        "    return r1[0:i]+r2[i:]\n",
        "\n",
        "  # Build the initial population\n",
        "  pop=[]\n",
        "  for i in range(popsize):\n",
        "    vec=[random.randint(domain[i][0],domain[i][1]) \n",
        "         for i in range(len(domain))]\n",
        "    pop.append(vec)\n",
        "  \n",
        "  # How many winners from each generation?\n",
        "  topelite=int(elite*popsize)\n",
        "  \n",
        "  # Main loop\n",
        "  for i in range(maxiter):\n",
        "    scores=[(costf(v),v) for v in pop]\n",
        "    scores.sort()\n",
        "    ranked=[v for (s,v) in scores]\n",
        "    # Start with the pure winers\n",
        "    pop=ranked[0:topelite]\n",
        "\n",
        "    # Add mutated and bred forms of the winners\n",
        "    while len(pop)<popsize:\n",
        "      if random.random()<mutprob:\n",
        "        # Mutation\n",
        "        c=random.randint(0,topelite)\n",
        "        pop.append(mutate(ranked[c]))\n",
        "      else:\n",
        "        # Crossover\n",
        "        c1=random.randint(0,topelite)\n",
        "        c2=random.randint(0,topelite)\n",
        "        pop.append(crossover(ranked[c1],ranked[c2]))\n",
        "      # Print current best score\n",
        "    #print( scores[0][0])\n",
        "  return scores[0][1]"
      ],
      "execution_count": null,
      "outputs": []
    },
    {
      "cell_type": "code",
      "metadata": {
        "colab": {
          "base_uri": "https://localhost:8080/"
        },
        "id": "0t5myQH_Ogxw",
        "outputId": "231be68f-ba12-42da-cc02-737ec7af734f"
      },
      "source": [
        "#5.7 Genetic Algorithm\n",
        "print( ' ===== genetic optimization ======')\n",
        "domain = [(0,8)]*(len(people)*2)\n",
        "s = geneticoptimize(domain,schedulecost)\n",
        "print( s)\n",
        "printschedule(s)\n",
        "print( ' schedulecost = %s' %schedulecost(s))\n"
      ],
      "execution_count": null,
      "outputs": [
        {
          "output_type": "stream",
          "name": "stdout",
          "text": [
            " ===== genetic optimization ======\n",
            "[4, 3, 3, 3, 4, 3, 3, 1, 1, 1, 1, 1]\n",
            "   Seymour       BOS 12:34-15:02 $109 10:33-12:03 $ 74\n",
            "    Franny       DAL 10:30-14:57 $290 10:51-14:16 $256\n",
            "     Zooey       CAK 10:53-13:36 $189 10:32-13:16 $139\n",
            "      Walt       MIA 11:28-14:40 $248 12:37-15:05 $170\n",
            "     Buddy       ORD 12:44-14:17 $134 10:33-13:11 $132\n",
            "       Les       OMA 11:08-13:07 $175 11:07-13:24 $171\n",
            " schedulecost = 2591\n"
          ]
        }
      ]
    },
    {
      "cell_type": "markdown",
      "metadata": {
        "id": "OpJAh2QrO09Y"
      },
      "source": [
        "最も優れた解が得られることが分かる。"
      ]
    }
  ]
}